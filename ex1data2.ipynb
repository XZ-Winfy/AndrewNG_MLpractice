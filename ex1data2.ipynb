{
 "cells": [
  {
   "cell_type": "code",
   "execution_count": 1,
   "id": "8f2e8c7a-68da-48df-b152-ea060caf4242",
   "metadata": {},
   "outputs": [],
   "source": [
    "import numpy as np\n",
    "import pandas as pd\n",
    "import matplotlib.pyplot as plt"
   ]
  },
  {
   "cell_type": "markdown",
   "id": "4f28d0d2-006a-46f3-ac08-b225081a68b7",
   "metadata": {},
   "source": [
    "## 数据读取\n",
    "\n",
    "数据第一列是房屋大小，第二列是卧室数量，第三列是房屋售价。根据数据建立模型，预测房屋售价。"
   ]
  },
  {
   "cell_type": "code",
   "execution_count": 6,
   "id": "f961287e-1c47-4310-9257-0e9910b69c1e",
   "metadata": {},
   "outputs": [
    {
     "data": {
      "text/html": [
       "<div>\n",
       "<style scoped>\n",
       "    .dataframe tbody tr th:only-of-type {\n",
       "        vertical-align: middle;\n",
       "    }\n",
       "\n",
       "    .dataframe tbody tr th {\n",
       "        vertical-align: top;\n",
       "    }\n",
       "\n",
       "    .dataframe thead th {\n",
       "        text-align: right;\n",
       "    }\n",
       "</style>\n",
       "<table border=\"1\" class=\"dataframe\">\n",
       "  <thead>\n",
       "    <tr style=\"text-align: right;\">\n",
       "      <th></th>\n",
       "      <th>size</th>\n",
       "      <th>bedrooms</th>\n",
       "      <th>price</th>\n",
       "    </tr>\n",
       "  </thead>\n",
       "  <tbody>\n",
       "    <tr>\n",
       "      <th>0</th>\n",
       "      <td>2104</td>\n",
       "      <td>3</td>\n",
       "      <td>399900</td>\n",
       "    </tr>\n",
       "    <tr>\n",
       "      <th>1</th>\n",
       "      <td>1600</td>\n",
       "      <td>3</td>\n",
       "      <td>329900</td>\n",
       "    </tr>\n",
       "    <tr>\n",
       "      <th>2</th>\n",
       "      <td>2400</td>\n",
       "      <td>3</td>\n",
       "      <td>369000</td>\n",
       "    </tr>\n",
       "    <tr>\n",
       "      <th>3</th>\n",
       "      <td>1416</td>\n",
       "      <td>2</td>\n",
       "      <td>232000</td>\n",
       "    </tr>\n",
       "    <tr>\n",
       "      <th>4</th>\n",
       "      <td>3000</td>\n",
       "      <td>4</td>\n",
       "      <td>539900</td>\n",
       "    </tr>\n",
       "  </tbody>\n",
       "</table>\n",
       "</div>"
      ],
      "text/plain": [
       "   size  bedrooms   price\n",
       "0  2104         3  399900\n",
       "1  1600         3  329900\n",
       "2  2400         3  369000\n",
       "3  1416         2  232000\n",
       "4  3000         4  539900"
      ]
     },
     "execution_count": 6,
     "metadata": {},
     "output_type": "execute_result"
    }
   ],
   "source": [
    "data = pd.read_csv('ex1data2.txt', names = ['size', 'bedrooms', 'price'])\n",
    "data.head()"
   ]
  },
  {
   "cell_type": "markdown",
   "id": "9718766c-b0a5-41c5-9cd6-2e695c49c96f",
   "metadata": {},
   "source": [
    "## 均值归一化"
   ]
  },
  {
   "cell_type": "code",
   "execution_count": 4,
   "id": "66bb89ca-3b23-4847-add7-e0ee35f498de",
   "metadata": {},
   "outputs": [],
   "source": [
    "def featureScale(data):\n",
    "    return (data-data.mean()) / data.std()"
   ]
  },
  {
   "cell_type": "code",
   "execution_count": 7,
   "id": "36c3c7e2-dbf6-4b4d-b485-99834fa28959",
   "metadata": {},
   "outputs": [
    {
     "data": {
      "text/html": [
       "<div>\n",
       "<style scoped>\n",
       "    .dataframe tbody tr th:only-of-type {\n",
       "        vertical-align: middle;\n",
       "    }\n",
       "\n",
       "    .dataframe tbody tr th {\n",
       "        vertical-align: top;\n",
       "    }\n",
       "\n",
       "    .dataframe thead th {\n",
       "        text-align: right;\n",
       "    }\n",
       "</style>\n",
       "<table border=\"1\" class=\"dataframe\">\n",
       "  <thead>\n",
       "    <tr style=\"text-align: right;\">\n",
       "      <th></th>\n",
       "      <th>size</th>\n",
       "      <th>bedrooms</th>\n",
       "      <th>price</th>\n",
       "    </tr>\n",
       "  </thead>\n",
       "  <tbody>\n",
       "    <tr>\n",
       "      <th>0</th>\n",
       "      <td>0.130010</td>\n",
       "      <td>-0.223675</td>\n",
       "      <td>0.475747</td>\n",
       "    </tr>\n",
       "    <tr>\n",
       "      <th>1</th>\n",
       "      <td>-0.504190</td>\n",
       "      <td>-0.223675</td>\n",
       "      <td>-0.084074</td>\n",
       "    </tr>\n",
       "    <tr>\n",
       "      <th>2</th>\n",
       "      <td>0.502476</td>\n",
       "      <td>-0.223675</td>\n",
       "      <td>0.228626</td>\n",
       "    </tr>\n",
       "    <tr>\n",
       "      <th>3</th>\n",
       "      <td>-0.735723</td>\n",
       "      <td>-1.537767</td>\n",
       "      <td>-0.867025</td>\n",
       "    </tr>\n",
       "    <tr>\n",
       "      <th>4</th>\n",
       "      <td>1.257476</td>\n",
       "      <td>1.090417</td>\n",
       "      <td>1.595389</td>\n",
       "    </tr>\n",
       "  </tbody>\n",
       "</table>\n",
       "</div>"
      ],
      "text/plain": [
       "       size  bedrooms     price\n",
       "0  0.130010 -0.223675  0.475747\n",
       "1 -0.504190 -0.223675 -0.084074\n",
       "2  0.502476 -0.223675  0.228626\n",
       "3 -0.735723 -1.537767 -0.867025\n",
       "4  1.257476  1.090417  1.595389"
      ]
     },
     "execution_count": 7,
     "metadata": {},
     "output_type": "execute_result"
    }
   ],
   "source": [
    "dataS = featureScale(data)\n",
    "dataS.head()"
   ]
  },
  {
   "cell_type": "markdown",
   "id": "9f585cef-3eda-4dc3-b301-62b2853746ee",
   "metadata": {},
   "source": [
    "## Data Plotting"
   ]
  },
  {
   "cell_type": "markdown",
   "id": "deebdd5c-8c93-4706-8407-59945ef6c64a",
   "metadata": {},
   "source": [
    "#### 房间大小(size)与售价的数据散点图"
   ]
  },
  {
   "cell_type": "code",
   "execution_count": 10,
   "id": "e7c2529f-3e1b-41bf-a837-e88016bdf7fe",
   "metadata": {},
   "outputs": [
    {
     "data": {
      "image/png": "[encoded data removed]",
      "text/plain": [
       "<Figure size 640x480 with 1 Axes>"
      ]
     },
     "metadata": {},
     "output_type": "display_data"
    }
   ],
   "source": [
    "dataS.plot.scatter('size', 'price', label = 'size')\n",
    "plt.show()"
   ]
  },
  {
   "cell_type": "markdown",
   "id": "379deb46-4851-4395-a9f6-c0b5ac56a170",
   "metadata": {},
   "source": [
    "#### 卧室数量(bedrooms)与售价的数据散点图"
   ]
  },
  {
   "cell_type": "code",
   "execution_count": 11,
   "id": "0a56b3bd-1ec8-4831-9f9c-49948f1bc348",
   "metadata": {},
   "outputs": [
    {
     "data": {
      "text/plain": [
       "<function matplotlib.pyplot.show(close=None, block=None)>"
      ]
     },
     "execution_count": 11,
     "metadata": {},
     "output_type": "execute_result"
    },
    {
     "data": {
      "image/png": "[encoded data removed]",
      "text/plain": [
       "<Figure size 640x480 with 1 Axes>"
      ]
     },
     "metadata": {},
     "output_type": "display_data"
    }
   ],
   "source": [
    "dataS.plot.scatter('bedrooms', 'price', label = 'bedrooms')\n",
    "plt.show"
   ]
  },
  {
   "cell_type": "markdown",
   "id": "ec29d784-c64c-4a9d-913f-ea998a1ca451",
   "metadata": {},
   "source": [
    "## 数据处理"
   ]
  },
  {
   "cell_type": "code",
   "execution_count": 12,
   "id": "5f6f8cf1-8e20-444d-836f-3d76a5c90e8c",
   "metadata": {},
   "outputs": [],
   "source": [
    "# 加一列常数项\n",
    "dataS.insert(0, 'x_0', 1)"
   ]
  },
  {
   "cell_type": "code",
   "execution_count": 99,
   "id": "5f228bf5-ae79-4cad-b658-43dea6d72734",
   "metadata": {},
   "outputs": [
    {
     "data": {
      "text/html": [
       "<div>\n",
       "<style scoped>\n",
       "    .dataframe tbody tr th:only-of-type {\n",
       "        vertical-align: middle;\n",
       "    }\n",
       "\n",
       "    .dataframe tbody tr th {\n",
       "        vertical-align: top;\n",
       "    }\n",
       "\n",
       "    .dataframe thead th {\n",
       "        text-align: right;\n",
       "    }\n",
       "</style>\n",
       "<table border=\"1\" class=\"dataframe\">\n",
       "  <thead>\n",
       "    <tr style=\"text-align: right;\">\n",
       "      <th></th>\n",
       "      <th>x_0</th>\n",
       "      <th>size</th>\n",
       "      <th>bedrooms</th>\n",
       "    </tr>\n",
       "  </thead>\n",
       "  <tbody>\n",
       "    <tr>\n",
       "      <th>0</th>\n",
       "      <td>1</td>\n",
       "      <td>0.130010</td>\n",
       "      <td>-0.223675</td>\n",
       "    </tr>\n",
       "    <tr>\n",
       "      <th>1</th>\n",
       "      <td>1</td>\n",
       "      <td>-0.504190</td>\n",
       "      <td>-0.223675</td>\n",
       "    </tr>\n",
       "    <tr>\n",
       "      <th>2</th>\n",
       "      <td>1</td>\n",
       "      <td>0.502476</td>\n",
       "      <td>-0.223675</td>\n",
       "    </tr>\n",
       "    <tr>\n",
       "      <th>3</th>\n",
       "      <td>1</td>\n",
       "      <td>-0.735723</td>\n",
       "      <td>-1.537767</td>\n",
       "    </tr>\n",
       "    <tr>\n",
       "      <th>4</th>\n",
       "      <td>1</td>\n",
       "      <td>1.257476</td>\n",
       "      <td>1.090417</td>\n",
       "    </tr>\n",
       "  </tbody>\n",
       "</table>\n",
       "</div>"
      ],
      "text/plain": [
       "   x_0      size  bedrooms\n",
       "0    1  0.130010 -0.223675\n",
       "1    1 -0.504190 -0.223675\n",
       "2    1  0.502476 -0.223675\n",
       "3    1 -0.735723 -1.537767\n",
       "4    1  1.257476  1.090417"
      ]
     },
     "execution_count": 99,
     "metadata": {},
     "output_type": "execute_result"
    }
   ],
   "source": [
    "# 初始化x\n",
    "x = dataS.iloc[:, 0:-1]\n",
    "x.head()"
   ]
  },
  {
   "cell_type": "code",
   "execution_count": 100,
   "id": "6930683a-8dcc-4269-b323-111cff4c5ae9",
   "metadata": {},
   "outputs": [
    {
     "data": {
      "text/plain": [
       "(47, 3)"
      ]
     },
     "execution_count": 100,
     "metadata": {},
     "output_type": "execute_result"
    }
   ],
   "source": [
    "x = np.matrix(x.values)\n",
    "x.shape"
   ]
  },
  {
   "cell_type": "code",
   "execution_count": 21,
   "id": "6c0aab30-b3e2-48ef-9058-0e3300d85985",
   "metadata": {},
   "outputs": [
    {
     "data": {
      "text/plain": [
       "0    0.475747\n",
       "1   -0.084074\n",
       "2    0.228626\n",
       "3   -0.867025\n",
       "4    1.595389\n",
       "Name: price, dtype: float64"
      ]
     },
     "execution_count": 21,
     "metadata": {},
     "output_type": "execute_result"
    }
   ],
   "source": [
    "# 初始化y\n",
    "y = dataS.iloc[:, -1]\n",
    "y.head()"
   ]
  },
  {
   "cell_type": "code",
   "execution_count": 22,
   "id": "454fd5c2-726b-44f3-bd24-d92829e8639b",
   "metadata": {},
   "outputs": [
    {
     "data": {
      "text/plain": [
       "(47, 1)"
      ]
     },
     "execution_count": 22,
     "metadata": {},
     "output_type": "execute_result"
    }
   ],
   "source": [
    "y = np.matrix(y.values).T\n",
    "y.shape"
   ]
  },
  {
   "cell_type": "code",
   "execution_count": 24,
   "id": "471f62b6-4ac0-4078-a15f-7ed3b80ed806",
   "metadata": {},
   "outputs": [],
   "source": [
    "# 初始化theta\n",
    "theta = np.zeros((3,1))"
   ]
  },
  {
   "cell_type": "markdown",
   "id": "91adf14d-6c19-444c-9f06-c66cea05bf6d",
   "metadata": {},
   "source": [
    "## Cost Function"
   ]
  },
  {
   "cell_type": "code",
   "execution_count": 72,
   "id": "44554343-3445-40c4-b8b1-3cdbf617e752",
   "metadata": {},
   "outputs": [],
   "source": [
    "def costFunc(x,y,theta):\n",
    "    inner = np.power((x @ theta - y), 2)\n",
    "    return np.sum(inner) / (2*len(x))"
   ]
  },
  {
   "cell_type": "code",
   "execution_count": 74,
   "id": "5d99acc1-88e6-4657-bf2e-77e9d9953af0",
   "metadata": {},
   "outputs": [
    {
     "name": "stdout",
     "output_type": "stream",
     "text": [
      "0.4893617021276595\n"
     ]
    }
   ],
   "source": [
    "cf = costFunc(x, y, theta)\n",
    "print(cf)"
   ]
  },
  {
   "cell_type": "markdown",
   "id": "e001580c-d6d3-4733-8bad-5947a72354a1",
   "metadata": {},
   "source": [
    "## Gradient Descent"
   ]
  },
  {
   "cell_type": "code",
   "execution_count": 76,
   "id": "e035929c-0865-442b-8019-d5dfcb5b3d37",
   "metadata": {},
   "outputs": [],
   "source": [
    "def gradientDescent(x, y, theta, alpha, iters):\n",
    "    cost = []\n",
    "    for i in range(iters):\n",
    "        term = (x @ theta - y)\n",
    "        delta = (1/len(x)) * (x.T @ term)\n",
    "        theta = theta - alpha*delta\n",
    "        cost.append(costFunc(x,y,theta))\n",
    "    return theta, cost"
   ]
  },
  {
   "cell_type": "code",
   "execution_count": 89,
   "id": "29540210-a86e-4fc4-92c7-fcf16b74cf79",
   "metadata": {},
   "outputs": [],
   "source": [
    "alpha = 0.01\n",
    "iters = 1500"
   ]
  },
  {
   "cell_type": "code",
   "execution_count": 90,
   "id": "79d643a5-f95b-4e35-9069-148bed81d9e4",
   "metadata": {},
   "outputs": [
    {
     "data": {
      "text/plain": [
       "matrix([[-1.10839234e-16],\n",
       "        [ 8.84042349e-01],\n",
       "        [-5.24551809e-02]])"
      ]
     },
     "execution_count": 90,
     "metadata": {},
     "output_type": "execute_result"
    }
   ],
   "source": [
    "t, cost = gradientDescent(x,y,theta,alpha,iters)\n",
    "t"
   ]
  },
  {
   "cell_type": "markdown",
   "id": "bd1c7519-f5a4-4271-a2b2-e1e897ec3354",
   "metadata": {},
   "source": [
    "## Normal Equations"
   ]
  },
  {
   "cell_type": "code",
   "execution_count": 96,
   "id": "a74626f4-907e-48af-88ff-ad0b09cd52ef",
   "metadata": {},
   "outputs": [],
   "source": [
    "def normalEqn(x,y):\n",
    "    theta = np.linalg.inv(x.T @ x) @ x.T @ y\n",
    "    return theta"
   ]
  },
  {
   "cell_type": "code",
   "execution_count": 123,
   "id": "9bbf7b86-63e5-4a2e-981e-0f6fc013b188",
   "metadata": {},
   "outputs": [
    {
     "data": {
      "text/plain": [
       "matrix([[-1.11022302e-16],\n",
       "        [ 8.84765988e-01],\n",
       "        [-5.31788197e-02]])"
      ]
     },
     "execution_count": 123,
     "metadata": {},
     "output_type": "execute_result"
    }
   ],
   "source": [
    "theta2 = normalEqn(x,y)\n",
    "theta2"
   ]
  },
  {
   "cell_type": "code",
   "execution_count": null,
   "id": "3eb4fcb7-deb1-4daa-b601-5807fd1eb060",
   "metadata": {},
   "outputs": [],
   "source": []
  },
  {
   "cell_type": "markdown",
   "id": "e9cb9d73-fa8c-4c5c-b9a9-5e30261b5c52",
   "metadata": {},
   "source": [
    "# Through sklearn"
   ]
  },
  {
   "cell_type": "code",
   "execution_count": 5,
   "id": "dbbe62c3-b6f4-4488-b0d4-d45a52b20299",
   "metadata": {},
   "outputs": [],
   "source": [
    "import numpy as np\n",
    "import pandas as pd\n",
    "import matplotlib.pyplot as plt\n",
    "from sklearn.linear_model import LinearRegression\n",
    "from sklearn import metrics"
   ]
  },
  {
   "cell_type": "code",
   "execution_count": 4,
   "id": "447304a0-8b64-4943-9f04-e2bbd6cba031",
   "metadata": {},
   "outputs": [
    {
     "data": {
      "text/html": [
       "<div>\n",
       "<style scoped>\n",
       "    .dataframe tbody tr th:only-of-type {\n",
       "        vertical-align: middle;\n",
       "    }\n",
       "\n",
       "    .dataframe tbody tr th {\n",
       "        vertical-align: top;\n",
       "    }\n",
       "\n",
       "    .dataframe thead th {\n",
       "        text-align: right;\n",
       "    }\n",
       "</style>\n",
       "<table border=\"1\" class=\"dataframe\">\n",
       "  <thead>\n",
       "    <tr style=\"text-align: right;\">\n",
       "      <th></th>\n",
       "      <th>x1</th>\n",
       "      <th>x2</th>\n",
       "      <th>y</th>\n",
       "    </tr>\n",
       "  </thead>\n",
       "  <tbody>\n",
       "    <tr>\n",
       "      <th>0</th>\n",
       "      <td>2104</td>\n",
       "      <td>3</td>\n",
       "      <td>399900</td>\n",
       "    </tr>\n",
       "    <tr>\n",
       "      <th>1</th>\n",
       "      <td>1600</td>\n",
       "      <td>3</td>\n",
       "      <td>329900</td>\n",
       "    </tr>\n",
       "    <tr>\n",
       "      <th>2</th>\n",
       "      <td>2400</td>\n",
       "      <td>3</td>\n",
       "      <td>369000</td>\n",
       "    </tr>\n",
       "    <tr>\n",
       "      <th>3</th>\n",
       "      <td>1416</td>\n",
       "      <td>2</td>\n",
       "      <td>232000</td>\n",
       "    </tr>\n",
       "    <tr>\n",
       "      <th>4</th>\n",
       "      <td>3000</td>\n",
       "      <td>4</td>\n",
       "      <td>539900</td>\n",
       "    </tr>\n",
       "  </tbody>\n",
       "</table>\n",
       "</div>"
      ],
      "text/plain": [
       "     x1  x2       y\n",
       "0  2104   3  399900\n",
       "1  1600   3  329900\n",
       "2  2400   3  369000\n",
       "3  1416   2  232000\n",
       "4  3000   4  539900"
      ]
     },
     "execution_count": 4,
     "metadata": {},
     "output_type": "execute_result"
    }
   ],
   "source": [
    "data2=pd.read_csv('ex1data2.txt',header=None,names=['x1','x2','y'])\n",
    "x=data2.iloc[:,0:-1]\n",
    "y=data2.iloc[:,-1]\n",
    "data2.head()"
   ]
  },
  {
   "cell_type": "code",
   "execution_count": 6,
   "id": "abe70c97-fb9d-4d72-99e1-d69bf0693b29",
   "metadata": {},
   "outputs": [
    {
     "name": "stdout",
     "output_type": "stream",
     "text": [
      "[  139.21067402 -8738.01911233]\n",
      "89597.90954279754\n"
     ]
    }
   ],
   "source": [
    "model = LinearRegression()\n",
    "res = model.fit(x,y)\n",
    "sktheta = model.coef_\n",
    "skintercept = model.intercept_\n",
    "\n",
    "print(sktheta)\n",
    "print(skintercept)"
   ]
  },
  {
   "cell_type": "code",
   "execution_count": 9,
   "id": "e0fa95a1-eb27-4a94-ac87-62f2a1dfd0e6",
   "metadata": {},
   "outputs": [
    {
     "name": "stdout",
     "output_type": "stream",
     "text": [
      "MAE： 51502.76840573897\n",
      "MSE: 4086560101.2056575\n"
     ]
    }
   ],
   "source": [
    "yPredict = res.predict(x)\n",
    "print('MAE：',metrics.mean_absolute_error(y,yPredict))\n",
    "print('MSE:',metrics.mean_squared_error(y,yPredict))"
   ]
  },
  {
   "cell_type": "code",
   "execution_count": null,
   "id": "780e0379-358e-4993-8344-7ad8e652fbd6",
   "metadata": {},
   "outputs": [],
   "source": []
  }
 ],
 "metadata": {
  "kernelspec": {
   "display_name": "Python 3 (ipykernel)",
   "language": "python",
   "name": "python3"
  },
  "language_info": {
   "codemirror_mode": {
    "name": "ipython",
    "version": 3
   },
   "file_extension": ".py",
   "mimetype": "text/x-python",
   "name": "python",
   "nbconvert_exporter": "python",
   "pygments_lexer": "ipython3",
   "version": "3.10.11"
  }
 },
 "nbformat": 4,
 "nbformat_minor": 5
}
